{
 "cells": [
  {
   "cell_type": "markdown",
   "id": "90e445d5",
   "metadata": {},
   "source": [
    "# Daily Blog #16 – Some Things Landed, Some Didn’t\n",
    "### May 16, 2025\n",
    "\n",
    "### What I Worked On\n",
    "- Attended two classes today: DAA and DCN\n",
    "- Consulted with our instructor about the final project concept in DCN\n",
    "\n",
    "### Finds of the Day\n",
    "- Learned about Decrease and Conquer algorithms, including insertion sort, shaker sort, BFS, and DFS\n",
    "- Covered some transport and application layer concepts in networking\n",
    "\n",
    "### Reflection\n",
    "A mentally draining day. I was actually into the DAA discussion and even asked legit questions during the lecture—the prof genuinely liked them (he even said so out loud). That kind of lifted my spirits.\n",
    "\n",
    "I also approached him after class about a weird line in the instructional material that claimed Selection/Bubble Sort was discovered by Oscar Wilde during the Bantu period—which, historically, makes zero sense. I tried to be as respectful as possible when I brought it up, but ugh, I hope I didn’t come off as rude or something.\n",
    "\n",
    "Then came the DCN consultation for our final project title ideas and... we’re so cooked. LMAO. All of our concepts got rejected because they weren’t enterprise-ready—like, apparently they lacked the key features expected in a real-world network setup. But we honestly didn’t know what those expectations were. That whole consultation was a disaster. I felt so dumb for not being able to contribute any solid or innovative improvements. Like my brain just... blanked.\n",
    "\n",
    "Truly a tiring day. Woke up at 6 AM with less than 2 hours of sleep. Commute at 9 AM. Stayed in school till 8 PM. Got home by 11 PM. Famished and drained.\n",
    "\n",
    "### Next Steps\n",
    "- Attend Statistics and Information Management class tomorrow\n",
    "- Facilitate a game for our organization\n",
    "- Rework and revise our DCN project concept\n",
    "- Get real rest. Seriously. My brain needs it."
   ]
  }
 ],
 "metadata": {
  "language_info": {
   "name": "python"
  }
 },
 "nbformat": 4,
 "nbformat_minor": 5
}
