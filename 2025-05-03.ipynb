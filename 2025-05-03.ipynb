{
 "cells": [
  {
   "cell_type": "markdown",
   "id": "f9798390",
   "metadata": {},
   "source": [
    "# Daily Blog #3 – Language Girl in Discrete Distribution  \n",
    "### May 3, 2025  "
   ]
  },
  {
   "cell_type": "markdown",
   "id": "ee38f0c8",
   "metadata": {},
   "source": [
    "##### Why This Entry Matters  \n",
    "Despite barely getting any sleep, I found myself surprisingly engaged in an 8 AM class today. While we were going through some examples, I wasn’t exactly following along with the professors solution. Instead, I was coming up with my own calculation using Bayes' Theorem. When the professor asked for answers, I shared mine in the chatbox. Funny enough, we didn’t use the same formula—and God forbid, I was horrified. But it turns out the professor’s formula was actually incorrect because the derived answer wasn’t even logically possible.\n",
    "\n",
    "So yeah... I somehow got it right. But it still feels kind of embarrassing to be the one clearly not following along, not because I’m trying to act like a know-it-all, I just genuinely enjoy figuring things out on my own.\n",
    "*Dear professor, I am sorry...*\n",
    "\n",
    "##### What I Worked On  \n",
    "- Joined class on conditional probability  \n",
    "- Worked through Bayes’ Theorem on my own  \n",
    "- Took notes on discrete random variables and their probability functions  \n",
    "- Read an article that compared programming skills with language ability  "
   ]
  },
  {
   "cell_type": "markdown",
   "id": "444f5b09",
   "metadata": {},
   "source": [
    "##### Key Insights / Lesson Summary\n",
    "**Conditional Probability**\n",
    "- P(A|B) = P(A ∩ B) / P(B) — assuming P(B) ≠ 0\n",
    "- It’s the probability of A happening given that B has happened.\n",
    "\n",
    "**Some key ideas:**\n",
    "- Not symmetric: P(A|B) ≠ P(B|A)\n",
    "- If A and B are independent, then P(A|B) = P(A)\n",
    "\n",
    "**Application (The Bayes Theorem)**\n",
    "Bayes' Theorem describes the probability of an event, based on prior knowledge of conditions that might be related to the event.\n",
    "\n",
    "**Formula:**\n",
    "$\n",
    "P(A \\mid B) = \\frac{P(B \\mid A) \\cdot P(A)}{P(B)}\n",
    "$\n",
    "\n",
    "**Random Variables**\n",
    "A random variable (RV) assigns a numerical value to outcomes of a random experiment.\n",
    "\n",
    "**Types:**\n",
    "1. Discrete — countable outcomes (e.g., dice rolls)\n",
    "2. Continuous — uncountable outcomes (e.g., height, weight)\n",
    "\n",
    "**Discrete Probability Distribution**\n",
    "**PMF (Probability Mass Function)**\n",
    "-  P(X = x) = p(x)\n",
    "- This gives you the exact probability of a discrete value.\n",
    "\n",
    "**Example**:\n",
    "If X = number of heads in 2 coin tosses:\n",
    "| x | P(X = x) |\n",
    "| - | -------- |\n",
    "| 0 | 0.25     |\n",
    "| 1 | 0.50     |\n",
    "| 2 | 0.25     |\n",
    "\n",
    "**CDF (Cumulative Distribution Function)**\n",
    "Gives cumulative probability up to and including value x. It’s non-decreasing and ranges from 0 to 1.\n",
    "\n",
    "$$\n",
    "F(x) = P(X \\leq x)\n",
    "$$\n",
    "\n",
    "---\n",
    "##### Thought-Provoking Find of the Day  \n",
    "[Why Girls May Be Better at Learning Programming](https://massivesci.com/articles/programming-math-language-python-women-in-science/) - This blog somehow concluded that girls should do well in learning programming because they have better language abilities than boys. According to their study, language aptitude explained almost 20% of the difference in how quickly people learned Python.\n",
    "\n",
    "That’s an interesting take, especially since I’ve always associated programming more with mathematics, given its theoretical computational nature. But at the same time, it’s also logical to hypothesize this kind of connection, since Python is literally called a language. Learning a programming language in computer science is, in many ways, similar to learning a natural human language, because both deal with syntax, structure, and vocabulary.\n",
    "\n",
    "One thing that also rubbed me the wrong way was the gender framing. As someone with two X chromosomes, I find the conclusion uncomfortable. I dislike the implication that “girls are/should be good at X because they’re girls” or “boys are/should be better at Y because they’re boys”—even when it’s backed by research. It feels reductive and reinforces the same boxes we’ve been trying to break out of.\n",
    "\n",
    "##### Next Steps  \n",
    "- Study Database Normalization\n",
    "- Revisit Process Scheduling Algorithms\n",
    "- Write my weekly reflection for Substack \n",
    "\n",
    "##### Reflection  \n",
    "I really should refrain from pushing myself to function like a normal human being throughout the day when I am in a severe state of lack of sleep. \n",
    "\n",
    "##### Meta  \n",
    "- Time spent: 4 hours (4h classes, 1h self-reflection + notes, 1h blog writing, 1h review on Information Management)  \n",
    "- Tools: Notion, Google Docs, MassiveSci  "
   ]
  }
 ],
 "metadata": {
  "language_info": {
   "name": "python"
  }
 },
 "nbformat": 4,
 "nbformat_minor": 5
}
