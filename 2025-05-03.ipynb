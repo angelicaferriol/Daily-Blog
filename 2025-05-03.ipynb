{
 "cells": [
  {
   "cell_type": "markdown",
   "id": "f9798390",
   "metadata": {},
   "source": [
    "# Title\n",
    "##### May 23, 2025\n",
    "\n",
    "\n",
    "\n"
   ]
  },
  {
   "cell_type": "code",
   "execution_count": null,
   "id": "fcc7e667",
   "metadata": {},
   "outputs": [],
   "source": [
    "# Today's [Daily Stoic](https://www.goodreads.com/book/show/29093292-the-daily-stoic) passage encourages to show and not merely tell what you know. It raises this question: *\"Would I be better saying words or letting my actions and choices illustrate that knowledge for me?\"* \n",
    "\n",
    "# It’s a question I’ve been unintentionally answering through the way I’ve been showing up. But I’ll admit, I still have the urge/need to share my plans especially on Substack (my accountability journal). I'm not doing it for attention or validation, but to make it real, as if writing it down publicly forces me to commit. You see, if I say I’m going to do something, and people see it, I am pressured or motivated to follow through. \n",
    "\n",
    "# I have this voice in my head, saying: *\"You already know how to tell a good story. Now, become someone who no longer has to tell it because **their life is the story**.\"*"
   ]
  },
  {
   "cell_type": "markdown",
   "id": "5ff781f8",
   "metadata": {},
   "source": [
    "### Subtitle\n",
    "This [blog](https://massivesci.com/articles/programming-math-language-python-women-in-science/) somehow concluded that girls should do well in learning programming because they have better language abilities than boys. According to their study, language aptitude explained almost 20% of the difference in how quickly people learned Python.\n",
    "\n",
    "That’s an interesting perspective, especially since I’ve always associated programming more with mathematics, given its theoretical computational nature. But at the same time, it’s also logical (common sense, really) to hypothesize this kind of connection, since Python is literally called a language. Learning a programming language in computer science is, in many ways, similar to learning a natural human language, because both deal with syntax, structure, and vocabulary.\n",
    "\n",
    "One thing that also rubbed me the wrong way was the gender framing. As someone with two X chromosomes, I find the conclusion uncomfortable. I dislike the implication that “girls are/should be good at X because they’re girls” or “boys are/should be better at Y because they’re boys”—even when it’s backed by research. It feels reductive and reinforces the same boxes we’ve been trying to break out of."
   ]
  }
 ],
 "metadata": {
  "language_info": {
   "name": "python"
  }
 },
 "nbformat": 4,
 "nbformat_minor": 5
}
