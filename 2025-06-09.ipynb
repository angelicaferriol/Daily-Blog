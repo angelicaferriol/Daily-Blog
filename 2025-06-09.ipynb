{
 "cells": [
  {
   "cell_type": "markdown",
   "id": "e3ff439e",
   "metadata": {},
   "source": [
    "# Daily Blog #40 - Spatial Joins — Combining Data Based on Location\n",
    "### June 9, 2025\n",
    "\n",
    "#### **What is a Spatial Join?**\n",
    "- A **spatial join** combines **two spatial datasets** based on their geographic relationship.\n",
    "- Like an **attribute join** (matching IDs) but instead of joining based on a column (like “site name”), you join based on **where things are** on the map!\n",
    "\n",
    "\n",
    "\n",
    "#### **Real-World Examples**\n",
    "\n",
    "* **Find which marine protected area (MPA) each reef point is inside** → link reef survey data with MPA data.\n",
    "* **Assign a “flood risk zone” to barangays** based on the polygon of the flood risk layer.\n",
    "* **Attach administrative region data to GPS points** of marine species sightings.\n",
    "\n",
    "\n",
    "\n",
    "#### **Types of Spatial Joins in QGIS**\n",
    "\n",
    "**Join Attributes by Location** (Vector → Data Management Tools)\n",
    "\n",
    "* One layer: e.g., coral reef point data\n",
    "* Second layer: e.g., MPA polygons\n",
    "* Output: reef points with new columns from the MPA layer\n",
    "* Relationship: e.g., “within” or “intersects”\n",
    "\n"
   ]
  }
 ],
 "metadata": {
  "language_info": {
   "name": "python"
  }
 },
 "nbformat": 4,
 "nbformat_minor": 5
}
