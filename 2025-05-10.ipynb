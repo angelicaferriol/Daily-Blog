{
 "cells": [
  {
   "cell_type": "markdown",
   "id": "0aede689",
   "metadata": {},
   "source": [
    "# Daily Blog #10 – Disregard This Entry\n",
    "### May 10, 2025\n",
    "\n",
    "I haven't bounce back, not because I can't but I genuinely don't want to yet. I feel like I'm succumbing to this so-called rest--giving my body and brain a break. I read some blogs, read few pages of the book, and search some call stuffs but I didn't note them down. In fact, I was just consuming information passively. This is kind of a bad rebellion to this blog, which I swear this will be committed to what I learn every day, but the content isn't, I know. But please, tolerate my unreasonable stuff during this period. I promise to start again whne I regain the life in me."
   ]
  }
 ],
 "metadata": {
  "language_info": {
   "name": "python"
  }
 },
 "nbformat": 4,
 "nbformat_minor": 5
}
