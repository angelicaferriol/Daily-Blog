{
 "cells": [
  {
   "cell_type": "markdown",
   "id": "ee3a939f",
   "metadata": {},
   "source": [
    "# Daily Blog #23 – Blur of Motion\n",
    "### May 23, 2025\n",
    "\n",
    "Not entirely sure what happened today—just that a *lot* did. I listened to two podcast episodes during my commute, read parts of a book, browsed through some blogs, and had various discussions with my groupmates. We talked about our project’s strengths, flaws, limitations, concerns, and checked how familiar everyone was with the tech—gearing up for our consultation, which got moved to Monday.\n",
    "\n",
    "I survived the entire day on two cups of coffee, a single sandwich (which I ate around 6 PM—first food of the day), and one hour of sleep from last night. Despite the motion, I can barely recall anything I truly absorbed, especially during the late afternoon class. It feels like I was just doing and moving without processing. \n",
    "\n",
    "What do they call this again?"
   ]
  }
 ],
 "metadata": {
  "language_info": {
   "name": "python"
  }
 },
 "nbformat": 4,
 "nbformat_minor": 5
}
