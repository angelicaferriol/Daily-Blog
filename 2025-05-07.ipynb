{
 "cells": [
  {
   "cell_type": "markdown",
   "id": "101732cc",
   "metadata": {},
   "source": [
    "# Daily Blog #7 – Day 2 of Exam\n",
    "### May 7, 2025\n",
    "\n",
    "##### What I Worked On  \n",
    "- DAA Midterm Exam \n",
    "- OS Midterm Exam \n",
    "\n",
    "##### What I Learned\n",
    "- Seriously, nothing.\n",
    "\n",
    "##### Reflection  \n",
    "Run around the campus with no sleep. \n",
    "\n",
    "##### Meta  \n",
    "- Time spent: 3-4 hours (2 hours each exam)\n",
    "- Location: School"
   ]
  }
 ],
 "metadata": {
  "language_info": {
   "name": "python"
  }
 },
 "nbformat": 4,
 "nbformat_minor": 5
}
