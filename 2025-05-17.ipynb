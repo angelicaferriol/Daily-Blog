{
 "cells": [
  {
   "cell_type": "markdown",
   "id": "60935ea1",
   "metadata": {},
   "source": [
    "# Daily Blog #17 – Strangers You Meet in Between\n",
    "### May 17, 2025\n",
    "\n",
    "### What I Worked On\n",
    "- Attend the Statistics class\n",
    "- Facilitated the Google Developers Group Sparkrush Event (Team Relay of Games) spearheaded by the Community Relations Committee\n",
    "\n",
    "### Finds of the Day\n",
    "There were a lot of human stories today because I socialized a lot—from my Joyride driver, co-facilitators, players, and even the maintenance staff at school. How I love learning about their lives.\n",
    "\n",
    "- The **players and facilitators** (mostly around my age) shared stories about school, stress, and coping. It’s fascinating how similar our experiences are, even if we rarely say it out loud. I like listening to their strategies, emotions, and how they carry themselves through the grind.\n",
    "\n",
    "- Second, would be the **maintenance staff**, especially Sir Ponci, who initially just asked me to take a picture of him doing tasks because apparently, even that has to be updated. He’s such a stern man in his early 60s (or maybe late 50s), but there’s this air of amiability—though not exactly approachable. He’s a cool, fun one. Would love to see him around campus often.\n",
    "\n",
    "- Third, and lastly, would be the **Joyride driver** I booked on my way to campus because I was running late after my morning class. During the 1-hour ride, he really went on telling his life story—from being a Computer Science graduate who chose the mechanic career track instead, to going abroad for years, getting addicted to drugs, and being disowned by his own family (both by his parents and his wife, including his sons). Then, eventually promising to be a better person—and actually proving it as of today. He’s so proud of his three sons, and he really loved talking about his little princess, whom he and her grandparents spoil so much. The way he spoke—it was raw, honest, and full of heart. I think those stories will stick with me for a while.\n",
    "\n",
    "### Reflection\n",
    "The Sparkrush event went smoothly. I did my part well—no problems, no panic. It felt good to manage something like that, especially since our station was labeled the hardest one (lol). The players’ reactions—rage, whining, teamwork, laughter—it was chaotic but fun to watch. There’s a strange satisfaction in seeing people struggle just enough to enjoy the challenge.\n",
    "\n",
    "### Next Steps\n",
    "- DAA, DCN, STATS project meeting and progress\n",
    "- TECHDOC initiative (remind groupmates and finish my part)"
   ]
  }
 ],
 "metadata": {
  "language_info": {
   "name": "python"
  }
 },
 "nbformat": 4,
 "nbformat_minor": 5
}
