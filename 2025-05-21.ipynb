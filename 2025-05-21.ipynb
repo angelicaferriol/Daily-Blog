{
 "cells": [
  {
   "cell_type": "markdown",
   "id": "3119a8f3",
   "metadata": {},
   "source": [
    "# Daily Blog #21 – Leetcode Day One: Easy Ain’t Easy\n",
    "### May 21, 2025\n",
    "\n",
    "##### What I Worked On\n",
    "- Watched video lectures on Topological Sort, Prim's, Kruskal's, and Dijkstra algorithm\n",
    "- Did my first Leetcode challenge\n",
    "\n",
    "##### What I Learned\n",
    "This was the code that I did for the Leetcode challenge called \"Two Sum\" in Python:"
   ]
  },
  {
   "cell_type": "code",
   "execution_count": null,
   "id": "cc0e975f",
   "metadata": {},
   "outputs": [],
   "source": [
    "class Solution(object):\n",
    "    def twoSum(self, nums, target):\n",
    "        for i in range(len(nums)):\n",
    "            for j in range(i + 1, len(nums)):\n",
    "                if nums[j] == target - nums[i]:\n",
    "                    return [i, j]\n",
    "        # Return an empty list if no solution is found\n",
    "        return []"
   ]
  },
  {
   "cell_type": "markdown",
   "id": "48274d5d",
   "metadata": {},
   "source": [
    "**Problem Overview**\n",
    "- Input: A list of integers nums and an integer target\n",
    "- Goal: Find indices [i, j] such that nums[i] + nums[j] == target\n",
    "- Output: List of indices [i, j] (with i < j)\n",
    "\n",
    "The solution I provided was using brute-force (nested for loops) with O(n^2) time complexity. It's a hard problem for me, ngl, even though it was under the easy category."
   ]
  },
  {
   "cell_type": "markdown",
   "id": "58247988",
   "metadata": {},
   "source": [
    "##### Next Steps  \n",
    "- Do the landing page for our DAA project using Figma\n",
    "- Attend the PE class tomorrow\n",
    "- Re-study the decrease and conquer algorithms for the quiz on Friday\n",
    "- Be confident with the topics to be proposed on DCN on Friday"
   ]
  }
 ],
 "metadata": {
  "language_info": {
   "name": "python"
  }
 },
 "nbformat": 4,
 "nbformat_minor": 5
}
