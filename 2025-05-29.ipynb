{
 "cells": [
  {
   "cell_type": "markdown",
   "id": "54698f22",
   "metadata": {},
   "source": [
    "# Daily Blog #29 - How Hashing Works\n",
    "### May 29, 2025\n",
    "\n",
    "### What Is Hashing?\n",
    "\n",
    "Hashing is a technique to **map data to a fixed-size value** (a hash) for efficient lookup, insertion, and deletion. Think of it as a **deterministic chaos function** — same input, same output, but near-instant access.\n",
    "\n",
    "* Time complexity: **Average O(1)** for insert, search, delete\n",
    "* Worst case: O(n) (if all keys collide — rare but possible)\n",
    "\n",
    "### Components of Hashing\n",
    "\n",
    "1. **Hash Function (H)**: Converts input (key) into an index.\n",
    "   * Example: `H(key) = key % table_size`\n",
    "   * Good hash functions:\n",
    "     * Fast to compute\n",
    "     * Distributes inputs **uniformly**\n",
    "     * Minimizes collisions\n",
    "\n",
    "2. **Hash Table**: The underlying array storing data at the index computed by the hash function.\n",
    "3. **Collision Handling**:\n",
    "   * **Chaining** (linked lists at each index)\n",
    "   * **Open addressing** (probing — linear, quadratic, or double hashing)\n",
    "\n",
    "### Real Case: Dictionary in Python\n",
    "* `dict()` uses a custom-built **open-addressing hash table**\n",
    "* Keys must be **hashable** (immutable types)\n",
    "* Constant-time access only **if collisions are rare**\n",
    "\n",
    "### Mental Model\n",
    "Think of hashing like a massive parking lot with intelligent slot allocation:\n",
    "* Each car (key) is assigned a slot via a formula (hash function)\n",
    "* Good hash = less traffic = fast access\n",
    "* Bad hash = traffic jam (collisions)\n",
    "\n",
    "### Strategic Tip\n",
    "When you see these keywords in a problem:\n",
    "* \"Find duplicates fast\"\n",
    "* \"Check membership\"\n",
    "* \"Count frequencies\"\n",
    "* \"Unique elements\"\n",
    "\n",
    "→ Think **Hashing first**, then optimize from there."
   ]
  }
 ],
 "metadata": {
  "language_info": {
   "name": "python"
  }
 },
 "nbformat": 4,
 "nbformat_minor": 5
}
