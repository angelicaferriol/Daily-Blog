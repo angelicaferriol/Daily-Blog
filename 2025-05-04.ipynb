{
 "cells": [
  {
   "cell_type": "markdown",
   "id": "6a23baa3",
   "metadata": {},
   "source": [
    "# Daily Blog #4 – [Short Title / Focus]\n",
    "### May 4, 2025\n",
    "\n",
    "##### Why This Entry Matters  \n",
    "\n",
    "##### What I Worked On  \n",
    "- Finished reviewing concepts in Information Management (Mastery: 83%)\n",
    "- Finished skimming concepts in Data Communications & Networking (Mastery: 76%)\n",
    "- Finished familiarizing myself with the Technical Documentation lesson (Mastery: 98%)\n",
    "- Finished studying all concepts in Operating Systems (Mastery: 85%)\n",
    "\n",
    "##### Key Learning \n",
    "**Normalization**\n",
    "It is the process of organizing the database to remove data redundancy and avoid the three types of anomalies (insertion, deletion, and updating). It's about decomposing relations into smaller relations or by breaking the table into multiple related tables.\n",
    "\n",
    "**Some key terms:**\n",
    "- Functional Dependencies(FD): The value of one attribute determines the value of another attribute. Example: Student No. -> Student Name, Section, Program\n",
    "- Partial FD: Non-key attribute depends on part but not all of a composite key (multiple PK)\n",
    "- Composite Key (ex. StudID, CourseID)\n",
    "    - Partial Dependency:\n",
    "        - StudID -> StudName\n",
    "        - CourseID -> CourseName\n",
    "        - StudName depends only on StudID, not on both CK, and vice versa\n",
    "- Transitive dependency (if a -> b -> c, then a -> c): When non-key attribute depends on another non-key attribute instead of directly depending on PK\n",
    "    - Example:\n",
    "        - DeptID -> ManagerID\n",
    "        - ManagerID -> ManagerName\n",
    "        - Thus, ManagerNAme is transitively dependent on DeptID\n",
    "\n",
    "**Steps in Normalization**\n",
    "1. First Normal Form (1NF) - Remove multivalued attributes and ensure **atomicity** (no repeating groups)\n",
    "2. Second Normal Form (2NF) - 1NF and remove partial dependencies and ensure full FUNCTIONAL DEPENDENCY on PK\n",
    "3. Third Normal Form (3NF) - 2NF and remove transitive dependencies\n",
    "\n",
    "##### Find of the Day\n",
    "- [Everyone needs to grow up](https://www.dazeddigital.com/life-culture/article/58408/1/why-everyone-except-me-is-an-immature-little-baby) \n",
    "- [The Twenty-Something Teens](https://madisonhuizinga.substack.com/p/the-twenty-something-teens) \n",
    "\n",
    "Both blogs kinda share the same message and they are argumentative--a critical analysis of the modern society targeting young adolescense, particularly the Millenials and Gen Z. They are thought-provoking and worth-reading.\n",
    "\n",
    "##### Next Steps  \n",
    "- Do practice tests on DCN and IM including hands-on exercises on network config and normalizations plus ERD to relation\n",
    "- Study Design and Analysis of Algorithms + plus do practice exercises on Notations, Time Complexities, and analysis of different algorithms (including its code snippets)\n",
    "- Rewrite my OS Exercise while re-studying the 8 process scheduling algorithms\n",
    "\n",
    "##### Reflection  \n",
    "Yesterday, I slept at 9 PM and wake up today at 3 AM. I could not remember when the last time I slept before 12 PM and I thought my body had been adjusted to my odd sleeping schedule of 4-6 AM sleep. Quite glad to know that I did not oversleep, all I have was to attan the 6-7 hours of sleep. I'll try to sleep at 11 PM today and see what time will I wake up.\n",
    "\n",
    "##### Meta  \n",
    "- Time spent: ~8 hours (2h DCN, 3h IM, 1h OS, 0.5 TECHDOC, 1h writing, 0.5 reading)\n",
    "- Tools: Vaia, Studly, YouTube, Substack, VSCode"
   ]
  }
 ],
 "metadata": {
  "language_info": {
   "name": "python"
  }
 },
 "nbformat": 4,
 "nbformat_minor": 5
}
