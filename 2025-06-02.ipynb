{
 "cells": [
  {
   "cell_type": "markdown",
   "id": "8fa61bfd",
   "metadata": {},
   "source": [
    "# Daily Blog #33 - Species Distribution Modeling (SDM)\n",
    "### June 2, 2025\n",
    "\n",
    "### What is SDM?\n",
    "**Species Distribution Modeling** predicts the potential geographical distribution of a species based on environmental data (like temperature, salinity, depth, chlorophyll, etc.) and species occurrence data (where it’s been observed).\n",
    "\n",
    "### Why it matters?\n",
    "Predict habitat suitability under climate change scenarios\n",
    "- Identify areas for conservation (e.g., Marine Protected Areas)\n",
    "- Forecast invasions of non-native species\n",
    "- Support sustainable fisheries management\n",
    "\n",
    "### How does it work?\n",
    "You feed environmental variables and occurrence records into a model. Popular algorithms:\n",
    "- **Random Forests / Gradient Boosting** (robust to non-linear relationships)\n",
    "- **MaxEnt** (maximum entropy modeling, great for presence-only data)\n",
    "- **Neural Networks** (deep learning can capture complex patterns but needs lots of data)\n",
    "\n",
    "The model learns the **relationship between environment and occurrence** and predicts where the species could potentially thrive.\n",
    "\n",
    "### Key Data\n",
    "* **Species presence data** (like OBIS or GBIF databases)\n",
    "* **Environmental layers** (like sea surface temperature, chlorophyll-a from satellite data, bathymetry)\n",
    "* **Temporal resolution** (monthly, seasonal data can reveal more than yearly averages)\n",
    "* **Spatial resolution** (don’t get stuck using low-res data if your study area is small-scale)\n"
   ]
  }
 ],
 "metadata": {
  "language_info": {
   "name": "python"
  }
 },
 "nbformat": 4,
 "nbformat_minor": 5
}
