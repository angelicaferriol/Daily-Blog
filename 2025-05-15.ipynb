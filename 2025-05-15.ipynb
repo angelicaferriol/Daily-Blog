{
 "cells": [
  {
   "cell_type": "markdown",
   "id": "ddcecc4b",
   "metadata": {},
   "source": [
    "# **Daily Blog #15 – Final Projects and My Final State**\n",
    "### *May 15, 2025*\n",
    "\n",
    "\n",
    "### **What I Worked On**\n",
    "* Wrote the **introduction page** for our *Technical Documentation* final project and researched global **AI regulatory standards**\n",
    "* Brainstormed and pitched **three ideas** for our *Networking* final project (building a small network), followed by a group meeting for alignment\n",
    "\n",
    "### **Find of the Day**\n",
    "Not much to share today in terms of concrete resources, but I did go down the rabbit hole of **self-development blogs**—particularly the ones preaching “live a life you’re excited to wake up to.”\n",
    "\n",
    "And honestly? **None of it resonated.**\n",
    "\n",
    "Most of it felt like temporary noise—things I could maybe try for a week before dropping. Like slapping a scented sticker on existential dread and calling it healing. I'm not wired for rigid routines, but I *do* crave meaningful consistency.\n",
    "\n",
    "What I *don’t* want is a life dictated by fear of failure or people-pleasing.\n",
    "\n",
    "> “They’ll give me a failing grade.”\n",
    "> “I’ll get fired.”\n",
    "> “My salary will be docked.”\n",
    "\n",
    "I’m done living under the microscope of imagined judgment. **That version of me—driven by high-functioning anxiety—is not welcome here anymore.**\n",
    "\n",
    "\n",
    "### **Next Steps**\n",
    "* Attend **DAA and DCN** classes tomorrow\n",
    "* Finish writing **Section 5** of the AI Regulatory Compliance Guide\n",
    "* Start drafting the **lo-fi framework** for the *Marine Life Tracker* project\n",
    "* Begin prep for the **final exam** on 3rd week of June\n",
    "\n",
    "\n",
    "### **Reflection**\n",
    "Today was all about final projects. And somehow I’m stuck in this weird duality of feeling **underwhelmed yet overwhelmed**. Like I’m drowning in slow motion.\n",
    "\n",
    "Logically, it doesn't make sense. I’m not even behind. But emotionally? I feel detached and lethargic—trying to intellectualize something that may just be plain burnout. I'm still in that escapist mindset. Still halfway out the door mentally.\n",
    "\n",
    "I know I’m not lazy. But I also know I’m tired in ways that a nap can't fix.\n",
    "\n",
    "### **Meta**\n",
    "* **Time spent:** \\~7 hours\n",
    "  * 4h on *Technical Documentation*\n",
    "  * 3h on *Data Communication & Networking*\n"
   ]
  }
 ],
 "metadata": {
  "language_info": {
   "name": "python"
  }
 },
 "nbformat": 4,
 "nbformat_minor": 5
}
