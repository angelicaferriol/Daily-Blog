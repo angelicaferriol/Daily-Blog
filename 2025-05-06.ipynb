{
 "cells": [
  {
   "cell_type": "markdown",
   "id": "0f0d5787",
   "metadata": {},
   "source": [
    "# Daily Blog #6 – [Short Title / Focus]\n",
    "### May 6, 2025 \n",
    "\n",
    "##### Why This Entry Matters  \n",
    "<!-- (Optional, 2–3 sentences max. Why this day stands out, or what prompted the focus) -->\n",
    "\n",
    "##### What I Worked On  \n",
    "- [Task 1: e.g., Finished a certain activity]\n",
    "- [Task 2: e.g., Reviewed one lesson]\n",
    "- [Task 3: e.g., Practiced coding]\n",
    "\n",
    "##### What I Learned\n",
    "- [Insight 1: Specific concept that clicked, or obstacle overcome]\n",
    "- [Insight 2: Lesson about workflow, mindset, or cross-disciplinary links]\n",
    "\n",
    "##### Find of the Day\n",
    "<!-- New topic, article, paper, or inspiration -->\n",
    "- [Title or Resource Name](link) – [Why it mattered or what you learned]\n",
    "\n",
    "##### Next Steps  \n",
    "- [Goal 1: e.g., Reviewed Lesson X on a specific course]\n",
    "- [Goal 2: e.g., Study certain topic in this discipline]\n",
    "- [Goal 3: Optional stretch goal or self-study plan]\n",
    "\n",
    "##### Reflection  \n",
    "<!-- 2–4 sentences. Honest note about your mindset, resistance, breakthroughs, or meta observations -->\n",
    "\n",
    "##### Meta  \n",
    "- Time spent: [X hours]\n",
    "- Tools: [e.g., Packet Tracer, Notion, YouTube, Visual Studio Code]\n",
    "- Location (optional): [e.g., home, library, café]"
   ]
  }
 ],
 "metadata": {
  "language_info": {
   "name": "python"
  }
 },
 "nbformat": 4,
 "nbformat_minor": 5
}
