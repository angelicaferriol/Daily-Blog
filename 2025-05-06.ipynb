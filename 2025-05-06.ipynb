{
 "cells": [
  {
   "cell_type": "markdown",
   "id": "0f0d5787",
   "metadata": {},
   "source": [
    "# Daily Blog #6 – Exam Week, Day One: Reality Check\n",
    "### May 6, 2025 \n",
    "\n",
    "##### Why This Entry Matters  \n",
    "First day of the three-day examinations. \n",
    "\n",
    "##### What I Worked On\n",
    "- Confident with my answers on IM (I did well)\n",
    "- Fairly good with my exam on DCN (there were several processes that I couldn't properly grasp)\n",
    "\n",
    "##### What I Learned\n",
    "- *God forbid--nothing*\n",
    "\n",
    "##### Next Steps  \n",
    "- Get enough sleep and rest after the exams\n",
    "- Start the final projects on Thursday\n",
    "\n",
    "##### Reflection  \n",
    "A tiring day, wake up at 3 AM, commute at 6:30 AM and at school till 6 PM. Had to take 4 jeepney rides to get home and I arrived almost 10 PM. It was draining and I am yet to study to the most critical exam tomorrow. \n",
    "\n",
    "##### Meta  \n",
    "- Time spent: 9:00 AM - 6:00 PM (studying + taking exams)\n",
    "- Location: School"
   ]
  }
 ],
 "metadata": {
  "language_info": {
   "name": "python"
  }
 },
 "nbformat": 4,
 "nbformat_minor": 5
}
