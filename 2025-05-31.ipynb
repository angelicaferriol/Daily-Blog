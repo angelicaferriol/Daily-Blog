{
 "cells": [
  {
   "cell_type": "markdown",
   "id": "e837a97e",
   "metadata": {},
   "source": [
    "# Daily Blog #31 - Next-Generation Sequencing (NGS)\n",
    "### May 31, 2025\n",
    "\n",
    "**Why NGS matters:**\n",
    "NGS is a core technology that powers much of modern biotechnology and bioinformatics. If you don’t grasp this, you’ll be lost when dealing with genomic data analysis, personalized medicine, or biotech R\\&D.\n",
    "\n",
    "### What is Next-Generation Sequencing (NGS)?\n",
    "* **NGS** is a set of modern DNA sequencing technologies that allow us to sequence entire genomes or specific DNA/RNA regions *massively* in parallel.\n",
    "* Unlike the old Sanger sequencing (slow, low throughput), NGS can generate billions of short DNA reads in a single run.\n",
    "* Common platforms: Illumina, Oxford Nanopore, PacBio.\n",
    "* NGS revolutionized biotechnology by making it possible to cheaply and quickly decode complex genetic information.\n",
    "\n",
    "### How does NGS work, in simplified terms?\n",
    "1. **Sample Prep:** DNA/RNA is fragmented into smaller pieces.\n",
    "2. **Library Construction:** Adaptors are attached to fragments for sequencing.\n",
    "3. **Sequencing:** The machine reads short sequences (reads) of nucleotides from each fragment.\n",
    "4. **Data Output:** Millions to billions of short reads (e.g., 100-300 base pairs each) are produced.\n",
    "\n",
    "### Where does bioinformatics come in?\n",
    "* NGS produces **huge volumes of raw data** — millions or billions of short DNA sequences.\n",
    "* Bioinformatics tools and algorithms are *absolutely essential* to:\n",
    "\n",
    "  * **Align** these short reads to a reference genome or assemble them de novo.\n",
    "  * **Identify** genetic variants (SNPs, insertions, deletions).\n",
    "  * **Quantify** gene expression from RNA sequencing.\n",
    "  * **Annotate** genomic features.\n",
    "\n",
    "This requires solid knowledge of algorithms, statistics, and data structures.\n",
    "\n",
    "### A simple practical example — Variant Calling\n",
    "Say you want to find mutations in a cancer patient’s DNA:\n",
    "* **Input:** Raw NGS reads.\n",
    "* **Bioinformatics pipeline:**\n",
    "  1. **Quality Control:** Filter low-quality reads.\n",
    "  2. **Alignment:** Map reads to human reference genome using tools like BWA or Bowtie.\n",
    "  3. **Variant Calling:** Use tools like GATK or FreeBayes to find where the sample differs from the reference.\n",
    "  4. **Annotation:** Determine if variants affect genes (e.g., causing amino acid changes).\n",
    "\n",
    "**Outcome:**\n",
    "Identified mutations can guide targeted therapy (precision medicine)."
   ]
  }
 ],
 "metadata": {
  "language_info": {
   "name": "python"
  }
 },
 "nbformat": 4,
 "nbformat_minor": 5
}
