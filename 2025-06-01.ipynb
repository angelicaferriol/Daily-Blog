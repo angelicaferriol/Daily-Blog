{
 "cells": [
  {
   "cell_type": "markdown",
   "id": "b7119530",
   "metadata": {},
   "source": [
    "# Daily Blog #32 - Simpson's Paradox\n",
    "### June 1, 2025\n",
    "\n",
    "### What is Simpson’s Paradox?\n",
    "\n",
    "Simpson’s Paradox occurs when a trend that appears in several groups of data **reverses** or disappears when the groups are combined.\n",
    "\n",
    "This usually happens because of a **confounding variable**—an underlying factor that distorts the apparent relationship between your variables of interest.\n",
    "\n",
    "### Example\n",
    "\n",
    "Suppose you’re analyzing a dataset of students’ test scores across two classes (A and B). You see this:\n",
    "\n",
    "* In **Class A**:\n",
    "\n",
    "  * Boys: Average score = 80\n",
    "  * Girls: Average score = 85\n",
    "* In **Class B**:\n",
    "\n",
    "  * Boys: Average score = 70\n",
    "  * Girls: Average score = 75\n",
    "\n",
    "Girls consistently score higher **within each class**.\n",
    "\n",
    "However, when you combine the data:\n",
    "\n",
    "* Overall boys: 76\n",
    "* Overall girls: 74\n",
    "\n",
    "The reversal in the overall averages suggests that **something else** (e.g., class size differences, different sample sizes, or different distributions) is affecting the results."
   ]
  }
 ],
 "metadata": {
  "language_info": {
   "name": "python"
  }
 },
 "nbformat": 4,
 "nbformat_minor": 5
}
