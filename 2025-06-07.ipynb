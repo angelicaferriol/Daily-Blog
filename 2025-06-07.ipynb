{
 "cells": [
  {
   "cell_type": "markdown",
   "id": "7c6a2a7f",
   "metadata": {},
   "source": [
    "# Daily Blog #38 -  Vector and Raster Data\n",
    "### June 7, 2025\n",
    "\n",
    "##### **Vector Data**\n",
    "- Points: A single location (like a water well).\n",
    "- Lines: Paths (like rivers or roads).\n",
    "- Polygons: Areas (like lakes or barangay boundaries).\n",
    "\n",
    "##### **Raster Data**\n",
    "- Grid of cells (pixels).\n",
    "- Each pixel has a value (like elevation, temperature).\n",
    "- Think of satellite images or heatmaps.\n",
    "\n",
    "### Key Operations You’ll Use\n",
    "**1. Aligning Georeferencing**\n",
    "- Assigning real-world coordinates to a map/image (like scanning a paper map and matching it to GPS).\n",
    "- Crucial for aligning old maps or scanned images with your current project.\n",
    "\n",
    "**2. Digitizing**\n",
    "- Converting features from raster or paper to vector (like tracing roads to make them into vector lines).\n",
    "\n",
    "**3. Attribute Joins**\n",
    "- Combining spatial data (like a shapefile of barangays) with attribute data (like population stats in an Excel sheet).\n",
    "- Common tool: “Join by attribute” in QGIS or merge in Pandas (Python).\n",
    "\n",
    "**4. Spatial Joins**\n",
    "- Merging two spatial datasets based on their location (e.g. find which barangays intersect with flood zones).\n",
    "\n"
   ]
  }
 ],
 "metadata": {
  "language_info": {
   "name": "python"
  }
 },
 "nbformat": 4,
 "nbformat_minor": 5
}
