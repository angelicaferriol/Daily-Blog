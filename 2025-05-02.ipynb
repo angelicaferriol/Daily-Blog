{
 "cells": [
  {
   "cell_type": "markdown",
   "id": "bed04b21",
   "metadata": {},
   "source": [
    "# Recent Thoughts on Learning\n",
    "##### May 2, 2025\n",
    "\n",
    "Lately, I'm coming to terms with myself regarding how I view learning. You see, I really love learning and have never viewed it as a pointless obligation... maybe that's the reason why I never missed a day of school unless I had to be somewhere else—which was also highly likely related to academics (e.g., competitions).\n",
    "\n",
    "However, if the younger version of me were to see me now in class, she would be horrified by my negligence, particularly during online sessions. I'd be sitting in front of my computer, seemingly listening to my professors’ lectures, while actually scrolling through blogs, reading books, or listening to music. Calling it \"boredom\" would be an understatement. The topics are genuinely interesting, but somehow there's no stimulus pushing me to focus. Why? Because, stubbornly enough, I’ve convinced myself that being in that class is a waste of time—because I wouldn't learn anything (which is partly true, and proven).\n",
    "\n",
    "When I entered university, I had a lot of expectations that weren’t just unmet—they were slapped back at me twice over in disappointment. There's something wrong with the system—not just within the institution, but within the higher education framework in this country as a whole. And no, this blog won't be about criticizing the system, because one should only criticize if they have a solution to offer. I'm just pointing it out because to fix anything, you first have to acknowledge where it went wrong.\n",
    "\n",
    "In my case, mindset shifting works efficiently.\n",
    "\n",
    "Now, I’m just a detached student, forced to self-study materials that make me feel dumb again and again—until I finally understand them. And then all I can think is, “Why did I think it was hard in the first place when I hadn’t even studied it yet?” That’s the beauty of learning that I genuinely love—one that not even the system can hinder. This resonates with a recent blog I read: [Proof You Can Do Hard Things](https://blog.nateliason.com/p/proof-you-can-do-hard-things?r=532zlf&utm_campaign=post&utm_medium=web&showWelcomeOnShare=false).\n",
    "\n",
    "Today, I focused on Operating System process scheduling algorithms, and it's ridiculous to think that I had disregarded the exercise for almost three weeks—only to find it wasn’t that bad at all.\n",
    "\n",
    "### Another Thought:\n",
    "> School is partly just a way to postpone all your major life decisions and learn a bit more about what you want to do. —**Erik Bernhardsson**\n",
    "\n",
    "I read that quote just this afternoon (I forgot which blog it was from), and although it sounds cynical, dare I say—it makes sense if you think about it. And the point is, once you understand that, we need to come up with a solution. Negate the statement—not in a propositional way that uses “no” or “not,” but by actively thinking through your major life decisions right now, here in school, and what it is you actually want to do.\n",
    "\n",
    "A lot of people say: *\"There's a whole life ahead, and there's no need to rush.\"* Alright, good for you, bud. But for the rest of us who want to create meaning while we're still in this mess of a system, we don’t have the luxury of waiting.\n",
    "\n",
    "---\n",
    "##### *Mental Notes:*\n",
    "- *I need to start taking this blog more seriously and sharing better stuff, especially for myself. My tendency to speak ill is showing, and what a shame to acknowledge.*\n",
    "- *I really love reading blogs lately... which I fear means I’m consuming more than I create again. So yeah, where’s the middle ground between balance and obsession? Or should I radically commit to the former? But then again, the latter sounds more tempting. Logically though, I don’t know what’s better…* \n"
   ]
  }
 ],
 "metadata": {
  "language_info": {
   "name": "python"
  }
 },
 "nbformat": 4,
 "nbformat_minor": 5
}
