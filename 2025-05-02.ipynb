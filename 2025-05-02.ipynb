{
 "cells": [
  {
   "cell_type": "markdown",
   "id": "bed04b21",
   "metadata": {},
   "source": [
    "# Daily Blog #2 – Reframing Learning & OS Scheduling  \n",
    "### May 2, 2025  \n",
    "\n",
    "##### Why This Entry Matters  \n",
    "Today reminded me that my learning struggles often come from resistance, not incapacity. I reframed how I perceive boring lectures and hard topics—and unlocked new momentum in Operating Systems.\n",
    "\n",
    "##### What I Worked On  \n",
    "- Revisited process scheduling algorithms in Operating Systems  \n",
    "- Practiced solving turnaround time and waiting time exercises  \n",
    "- Reflected on my engagement with formal education and boredom  \n",
    "- Explored thoughts from Erik Bernhardsson and Nat Eliason  \n",
    "\n",
    "##### Key Insights  \n",
    "- Avoidance inflates difficulty. Once I started doing the OS exercise I had been dreading, I realized it wasn’t even hard—just unfamiliar.  \n",
    "- Mindset is half the battle: detaching from flawed systems doesn’t mean detaching from learning. I’m not here to passively observe—I’m here to shape what I get out of it.  \n",
    "\n",
    "##### Inspiring Find of the Day  \n",
    "- [Proof You Can Do Hard Things – Nat Eliason](https://blog.nateliason.com/p/proof-you-can-do-hard-things) – This reminded me that most difficulty is perception. Once I engaged with the material, clarity followed.  \n",
    "- Erik Bernhardsson quote:\n",
    "  > \"School is partly just a way to postpone all your major life decisions...\" — not an excuse to coast, but a prompt to decide earlier.\n",
    "\n",
    "##### Next Steps  \n",
    "- Rework my notes on Round Robin and Priority Scheduling into a cheat sheet  \n",
    "- Review FCFS, SJF, and multi-level queues with examples  \n",
    "- Reflect on how to turn classes into launchpads rather than obligations  \n",
    "\n",
    "##### Reflection  \n",
    "I’ve been detached in class lately—not out of laziness, but from frustration with how ineffective traditional teaching feels. Still, disengagement doesn’t solve it. Self-study reconnected me with my love of learning today, even if it meant admitting my own procrastination. I want to stop consuming for comfort and start creating again.  \n",
    "\n",
    "##### Meta  \n",
    "- Time spent: 5 hours (3h study, 1h reflection, 1h blog writing)  \n",
    "- Tools: VS Code, Notion, Excel, YouTube"
   ]
  }
 ],
 "metadata": {
  "language_info": {
   "name": "python"
  }
 },
 "nbformat": 4,
 "nbformat_minor": 5
}
