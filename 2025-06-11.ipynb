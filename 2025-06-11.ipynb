{
 "cells": [
  {
   "cell_type": "markdown",
   "id": "a6e4c9b1",
   "metadata": {},
   "source": [
    "# Daily Blog #42 - Data Filtering & Querying in Spreadsheets\n",
    "### June 11, 2025\n",
    "\n",
    "#### **What is Filtering?**\n",
    "\n",
    "Filtering means **narrowing down** your dataset to show **only the rows that meet certain criteria**.\n",
    "It’s like **asking questions** of your data:\n",
    "\n",
    "* “Show me only the sites in Region IV.”\n",
    "* “Show me the barangays with > 1,000 people.”\n",
    "\n",
    "\n",
    "#### **Basic Filtering in Excel**\n",
    "\n",
    "- Go to **Data > Filter** → dropdown arrows appear in each header.\n",
    "- Use checkboxes to select what you want to see.\n",
    "\n",
    "- Use **Number/Date Filters** for ranges:\n",
    "\n",
    "* E.g., “Greater than 1000,” or “Between Jan 2020 and Dec 2020.”\n",
    "\n",
    "\n",
    "#### **Advanced Filtering**\n",
    "\n",
    "**Custom Filters** – Use multiple criteria:\n",
    "\n",
    "* “Show me rows where region = NCR **and** population > 10,000.”\n",
    "\n",
    "**Formulas for filtering**:\n",
    "\n",
    "* Use `=FILTER()` function in newer Excel:\n",
    "\n",
    "  ```excel\n",
    "  =FILTER(A2:C100, B2:B100=\"NCR\")\n",
    "  ```\n",
    "\n",
    "**Use Pivot Table filters** to explore multiple data summaries.\n",
    "\n"
   ]
  }
 ],
 "metadata": {
  "language_info": {
   "name": "python"
  }
 },
 "nbformat": 4,
 "nbformat_minor": 5
}
