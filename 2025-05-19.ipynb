{
 "cells": [
  {
   "cell_type": "markdown",
   "id": "0ce5ea60",
   "metadata": {},
   "source": [
    "# Daily Blog #19 – Work, Work, Work\n",
    "### May 19, 2025\n",
    "\n",
    "### What I Worked On\n",
    "* Attended PEE class\n",
    "* Meeting and wrote the title/topic proposal for our Stats Case Study (ready for submission)\n",
    "* Meeting and brainstorming of our final project in DAA and preparation for pitching of the idea\n",
    "\n",
    "### To-do on Tuesday\n",
    "* Attend the DCN and TechDoc class tomorrow\n",
    "* Write my part on the DAA proposal + design the landing page\n",
    "* Polish my topic proposals for DCN small network\n",
    "* Polish TechDoc document + create the template for the final output\n",
    "* Rewrite my OS assignment"
   ]
  }
 ],
 "metadata": {
  "language_info": {
   "name": "python"
  }
 },
 "nbformat": 4,
 "nbformat_minor": 5
}
