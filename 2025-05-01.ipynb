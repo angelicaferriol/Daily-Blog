{
 "cells": [
  {
   "cell_type": "markdown",
   "id": "d3db4bed",
   "metadata": {
    "vscode": {
     "languageId": "html"
    }
   },
   "source": [
    "# Starting This Daily Blog\n",
    "##### May 1, 2025\n",
    "\n",
    "I'm starting a public daily blog because I read Benedict Neo's \"writing = thinking\" which makes a lot of sense since I rarely talk nowadays (I am having cohort discussions in my head). But I do share my words in other writing platforms which is on [Medium](https://medium.com/@angelicaferriol) for selected ideas that I carefully researched and wrote, and on [Substack](https://becomingexecelle.substack.com/) which is my weekly accountability journal. Well, given that I already wrote quite a lot and my digital footprints exist everywhere, why am I still starting this?\n",
    "\n",
    "First, my physical journal isn't nearly as effective and I couldn't reap the benefits nor enjoy the writing process there. Second, I want to maintain my streak here on Github. And lastly, which is the most important thing, I realized while I was doing weekly self-reflection, I lack records and evidences of what happened that day, what did I learned, and what did I do differently. This daily blog was the solution that I could think of.\n",
    "\n",
    "Today — aside from encountering different terminolgies in tech that punch me with the fact that this field is really fast-paced, growing, and has the tendency to make you feel overwhelmed (I refused to) — I finished the six Packet Tracer activities for Networking. I also studied for my upcoming midterm exams next week (focusing today on Operating Systems and Information Management). I haven't fully grasp the process scheduling algorithms and the ERD, but I still have four days to study it more seriously. \n",
    "\n",
    "I also explored the Marine Science specializing in Biotechnology curriculum, and some of its fundamentals are basically taught in STEM which I didn't take because I was in Humanities. So with that, I decided to mix studying General Biology I & II, General Chemistry I & II, and Intro to Marine Science (all self-study) alongside with the 8 courses I'm taking this semester.\n",
    "\n",
    "I watched a really interesting video about a marine scientist's call for action, by using the parrotfish: [A coral reef love story | Ayana Elizabeth Johnson | TED](https://www.youtube.com/watch?v=Efv5IeMlo4Y&list=PLcfivdnkj-yClQd2vvPdqC9GYRp3iBFFF&index=1). It's really inspiring so to speak.\n",
    "\n",
    "I also discovered the existence of [Verde Island Passage](https://www.seainstitute.org/) which is basically a part of my province. And it's calling me, like some odd sense of my nature-saviour-complex. \n"
   ]
  }
 ],
 "metadata": {
  "language_info": {
   "name": "python"
  }
 },
 "nbformat": 4,
 "nbformat_minor": 5
}
