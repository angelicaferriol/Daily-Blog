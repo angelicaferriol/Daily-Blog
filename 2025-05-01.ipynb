{
 "cells": [
  {
   "cell_type": "markdown",
   "id": "d3db4bed",
   "metadata": {
    "vscode": {
     "languageId": "html"
    }
   },
   "source": [
    "# Starting This Daily Blog\n",
    "##### May 1, 2025\n",
    "\n",
    "I'm starting a public daily blog because I read Benedict Neo's \"writing = thinking,\" which makes a lot of sense—since I rarely talk nowadays (I’m having cohort discussions in my head). But I do share my words on other writing platforms: on [Medium](https://medium.com/@angelicaferriol) for selected ideas that I carefully research and write, and on [Substack](https://becomingexecelle.substack.com/) which is my weekly accountability journal.\n",
    "\n",
    "Well, given that I already write quite a lot and my digital footprints exist everywhere, why am I still starting this?\n",
    "\n",
    "1. First, my physical journal isn’t nearly as effective—I couldn’t reap the benefits nor enjoy the writing process there.\n",
    "2. Second, I want to maintain my streak here on GitHub.\n",
    "3. And lastly—and most importantly—I realized during my weekly self-reflection that I lack records and evidence of what happened each day, what I learned, and what I did differently. This daily blog is the best solution I could think of.\n",
    "\n",
    "Today—aside from encountering different terminologies in tech that reminded me just how fast-paced and overwhelming this field can be (I refuse to be overwhelmed)—I finished the six Packet Tracer activities for Networking. I also studied for my upcoming midterm exams next week (focusing today on Operating Systems and Information Management). I haven’t fully grasped the process scheduling algorithms or ERDs yet, but I still have four days to study them more seriously.\n",
    "\n",
    "I also explored the Marine Science curriculum specializing in Biotechnology, and found that some of its fundamentals are actually taught in STEM—which I didn’t take, since I was in Humanities. So with that, I’ve decided to mix in self-study of General Biology I & II, General Chemistry I & II, and Intro to Marine Science alongside the 8 courses I’m currently taking this semester.\n",
    "\n",
    "I watched a really interesting video about a marine scientist’s call to action, using the parrotfish as a case study: [A coral reef love story | Ayana Elizabeth Johnson | TED](https://www.youtube.com/watch?v=Efv5IeMlo4Y&list=PLcfivdnkj-yClQd2vvPdqC9GYRp3iBFFF&index=1). It's truly inspiring, to say the least.\n",
    "\n",
    "I also discovered the existence of the [Verde Island Passage](https://www.seainstitute.org/), which is actually part of my province. And it’s calling me—like some odd manifestation of my nature-savior complex.\n"
   ]
  }
 ],
 "metadata": {
  "language_info": {
   "name": "python"
  }
 },
 "nbformat": 4,
 "nbformat_minor": 5
}
