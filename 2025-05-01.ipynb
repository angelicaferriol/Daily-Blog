{
 "cells": [
  {
   "cell_type": "markdown",
   "id": "d3db4bed",
   "metadata": {
    "vscode": {
     "languageId": "html"
    }
   },
   "source": [
    "# Daily Blog #1 – Why I’m Starting This + Networking, Marine Science, and Study Gaps\n",
    "### May 1, 2025\n",
    "\n",
    "##### Why This Blog Exists\n",
    "I'm starting this GitHub-based blog to track daily learning and progress. Compared to my physical journal and other platforms (e.g., [Medium](https://medium.com/@angelicaferriol), [Substack](https://becomingexecelle.substack.com/)), this format:\n",
    "* Keeps a public, commit-based learning streak\n",
    "* Captures raw insights without perfectionism\n",
    "* Forces clarity: writing = thinking\n",
    "\n",
    "##### What I Worked On\n",
    "* Finished 6 Packet Tracer activities for **Networking**\n",
    "* Studied for **Operating Systems** (process scheduling) and **Information Management** (ERDs) midterms\n",
    "* Researched **Marine Science (Biotech)** curriculum; planning to self-study STEM foundations:\n",
    "  * General Biology I & II\n",
    "  * General Chemistry I & II\n",
    "  * Intro to Marine Science\n",
    "\n",
    "##### Key Insights\n",
    "* Networking is layered and hands-on—Packet Tracer makes it real.\n",
    "* Process scheduling and ERDs are still unclear. Will allocate deep work sessions over the next 4 days.\n",
    "* Bridging CS and Marine Science requires a hybrid learning path I must self-construct—STEM isn't optional anymore.\n",
    "\n",
    "##### Inspiring Find of the Day\n",
    "* [A coral reef love story | Ayana Elizabeth Johnson | TED](https://www.youtube.com/watch?v=Efv5IeMlo4Y&list=PLcfivdnkj-yClQd2vvPdqC9GYRp3iBFFF&index=1) – narrative power in science communication\n",
    "* [Verde Island Passage](https://www.seainstitute.org/) – rich marine biodiversity zone, and it’s surprisingly near my province\n",
    "\n",
    "##### Next Steps\n",
    "* Review process scheduling algorithms (priority vs round robin)\n",
    "* Clarify ERDs with real-world schema examples\n",
    "* Create study plan for STEM topics (Marine Science track)\n",
    "\n",
    "##### Reflection\n",
    "Today showed me I need to stop romanticizing interdisciplinary ambition unless I’m willing to actually learn the foundations. This blog will help keep that in check—daily. Let’s go.\n",
    "\n",
    "##### Meta\n",
    "* Tools used: Cisco Packet Tracer, Notion, YouTube\n",
    "* Time invested: ~4.5 hours\n"
   ]
  }
 ],
 "metadata": {
  "language_info": {
   "name": "python"
  }
 },
 "nbformat": 4,
 "nbformat_minor": 5
}
