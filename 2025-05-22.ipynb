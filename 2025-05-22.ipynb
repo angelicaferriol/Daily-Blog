{
 "cells": [
  {
   "cell_type": "markdown",
   "id": "6cac2696",
   "metadata": {},
   "source": [
    "# Daily Blog #22 – High Fidelity, High Pressure\n",
    "### May 22, 2025\n",
    "\n",
    "##### Why This Entry Matters\n",
    "\n",
    "Today was all about moving pieces—design, coordination, and execution. It was one of those days that reminds me how pressure can sharpen focus (for better or worse).\n",
    "\n",
    "##### What I Worked On\n",
    "\n",
    "* Created a high-fidelity wireframe for our DAA final project\n",
    "* Reviewed and suggested changes to project features\n",
    "* Attended PE class (focused on basketball passing drills)\n",
    "* Coordinated with team members for TechDoc and DAA final output deliverables\n",
    "\n",
    "##### What I Learned\n",
    "\n",
    "* Pressure is an excellent motivator—especially when deadlines are closing in and collaboration is needed to push things across the finish line.\n",
    "\n",
    "\n",
    "##### Find of the Day\n",
    "\n",
    "Listened to the latest episode of *Hard Fork* (podcast), which explored:\n",
    "\n",
    "* How Apple manages and monopolizes revenue through its App Store policies\n",
    "* The ongoing legal battle with Epic Games (Fortnite’s parent company)\n",
    "* The implications of the judge’s ruling and its ripple effects on developers and digital marketplaces\n",
    "\n",
    "##### Next Steps\n",
    "\n",
    "* Pitch our DAA final project (proposal phase) tomorrow\n",
    "* Study for the DAA activity (Decrease & Conquer and Greedy algorithms)\n",
    "* Finalize and propose our DCN project ideas"
   ]
  }
 ],
 "metadata": {
  "language_info": {
   "name": "python"
  }
 },
 "nbformat": 4,
 "nbformat_minor": 5
}
