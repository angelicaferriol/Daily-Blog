{
 "cells": [
  {
   "cell_type": "markdown",
   "id": "029248ba",
   "metadata": {},
   "source": [
    "# Daily Blog #36 -  Central Limit Theorem (CLT) – The Backbone of Inference\n",
    "### June 5, 2025\n",
    "\n",
    "#### What it says?\n",
    "\n",
    "When you **take repeated samples** of a random variable (like fish sizes, temperatures, or chlorophyll concentrations), **no matter how the underlying data is distributed**, the **distribution of the sample means** will approximate a **normal distribution** (bell curve) as your sample size gets large.\n",
    "\n",
    "#### The core statement:\n",
    "\n",
    "If $X_1, X_2, \\ldots, X_n$ are **independent, identically distributed (i.i.d.)** random variables with:\n",
    "\n",
    "* Mean $\\mu$\n",
    "* Variance $\\sigma^2$\n",
    "\n",
    "Then, the **sample mean**:\n",
    "\n",
    "$$\n",
    "\\bar{X} = \\frac{1}{n} \\sum_{i=1}^{n} X_i\n",
    "$$\n",
    "\n",
    "As $n \\to \\infty$:\n",
    "\n",
    "$$\n",
    "\\frac{\\bar{X} - \\mu}{\\sigma/\\sqrt{n}} \\to N(0,1)\n",
    "$$\n",
    "\n",
    "\n",
    "\n",
    "#### Why it matters in real life?\n",
    "\n",
    "- **Confidence intervals**: You can trust that your sample mean is normally distributed and use z-scores to calculate confidence intervals even if your data isn’t perfectly normal.\n",
    "- **Hypothesis testing**: The CLT underpins t-tests, ANOVA, and many other statistical tests.\n",
    "- **Model error estimation**: In bootstrapping, you repeatedly sample your data to estimate the uncertainty in your model’s performance.\n",
    "\n",
    "#### Practical example in marine data\n",
    "\n",
    "Suppose you’re sampling the **chlorophyll concentration** in coastal waters.\n",
    "\n",
    "* The actual distribution might be skewed (e.g., lots of low values, a few very high).\n",
    "* If you sample **n = 50** locations repeatedly, the distribution of those sample means will be close to **normal**, letting you estimate **average chlorophyll** with confidence.\n"
   ]
  }
 ],
 "metadata": {
  "language_info": {
   "name": "python"
  }
 },
 "nbformat": 4,
 "nbformat_minor": 5
}
