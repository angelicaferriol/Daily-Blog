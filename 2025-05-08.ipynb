{
 "cells": [
  {
   "cell_type": "markdown",
   "id": "9607f9ba",
   "metadata": {},
   "source": [
    "# Daily Blog #8 – Day 3 of the Exam (Last Day)\n",
    "### May 8, 2025\n",
    "\n",
    "##### Why This Entry Matters  \n",
    "I overslept. I usually start my prep to school at 5 AM but today I woke up at quarter to 6 and with no night study for my exam today. LMAO. But I still manage to understand it since I've already reviewed most of it several days ago and unlike my previous exams this one is more into language and writing, not computational thinking.\n",
    "\n",
    "##### What I Worked On  \n",
    "- TECHDOC exam\n",
    "- Read a new book that I bought today as a gift to myself\n",
    "\n",
    "##### What I Learned\n",
    "- Learned some cool fallacies (which I will forgot so I'm thinking of having a physical common book)\n",
    "\n",
    "##### Find of the Day\n",
    "- The Art of Thinking Clearly by Rolf Dobelli. Bought this today (on impulse because Nichomachean Ethics was no longer available on store) and I read it during lunch and commute and it's a good read with so much stuff to reflect on. A lot of cases are also apparent in day-to-day scenario which is interesting to disect and analyze them critically. So far, not regretting that I bought it.\n",
    "\n",
    "##### Next Steps  \n",
    "- Start prewriting the final project in TechDoc\n",
    "- Get back into reading blogs and practicing coding regularly (build stuffs)\n",
    "\n",
    "##### Meta  \n",
    "- Time spent: 1.5hours for Techdoc Exam\n",
    "- Location: School"
   ]
  }
 ],
 "metadata": {
  "language_info": {
   "name": "python"
  }
 },
 "nbformat": 4,
 "nbformat_minor": 5
}
