{
 "cells": [
  {
   "cell_type": "markdown",
   "id": "0aeef574",
   "metadata": {},
   "source": [
    "# Daily Blog #18 – Teeth, Tech, and Tedium\n",
    "### May 18, 2025\n",
    "\n",
    "### What I Worked On\n",
    "* Went to the dentist today — 3 hours\n",
    "* Worked on our DCN enterprise network (brainstormed again, followed by a group meeting) — 3 hours\n",
    "* Searched for datasets for our Statistics case study — found a few with potential across 8 different areas (tonight’s meeting for this got moved) — 2 hours\n",
    "* Finished researching and writing my sections for the TechDoc Regulatory Compliance Guide — needs a bit of polishing — 2 hours\n",
    "\n",
    "### Meta \n",
    "Time spent: 10 hours in front of my computer hunched on my chair\n",
    "\n",
    "### Reflection\n",
    "My lower back pain has been intense since I woke up, lmfao. No idea what triggered it. I tried a few pilates/yoga stretches in the morning, but spinal extensions hurt the most. Hopefully it’s nothing serious. I wish I had more interesting finds to share, but everything I did today was purely school-related. Honestly, I’m deep fried already."
   ]
  }
 ],
 "metadata": {
  "language_info": {
   "name": "python"
  }
 },
 "nbformat": 4,
 "nbformat_minor": 5
}
