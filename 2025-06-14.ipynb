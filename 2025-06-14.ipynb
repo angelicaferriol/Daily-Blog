{
 "cells": [
  {
   "cell_type": "markdown",
   "id": "9d1fd230",
   "metadata": {},
   "source": [
    "# Daily Blog #45 - \n",
    "### June 14, 2025"
   ]
  }
 ],
 "metadata": {
  "language_info": {
   "name": "python"
  }
 },
 "nbformat": 4,
 "nbformat_minor": 5
}
